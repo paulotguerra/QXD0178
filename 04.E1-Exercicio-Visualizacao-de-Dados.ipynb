{
 "cells": [
  {
   "cell_type": "markdown",
   "metadata": {},
   "source": [
    "<a target=\"_blank\" href=\"https://colab.research.google.com/github/paulotguerra/QXD0178/blob/main/03.E0-Exercicio-Agrupamento-de-Dados.ipynb\">\n",
    "  <img src=\"https://colab.research.google.com/assets/colab-badge.svg\" alt=\"Open In Colab\"/>\n",
    "</a>"
   ]
  },
  {
   "cell_type": "markdown",
   "metadata": {},
   "source": [
    "## QXD0178 - Mineração de Dados\n",
    "# Visualização de Dados"
   ]
  },
  {
   "cell_type": "markdown",
   "metadata": {},
   "source": [
    "**Professor:** Paulo de Tarso Guerra Oliveira ([paulodetarso@ufc.br](mailto:paulodetarso@ufc.br))\n"
   ]
  },
  {
   "cell_type": "markdown",
   "metadata": {},
   "source": [
    "# Lista de Exercícios: Visualização de Dados"
   ]
  },
  {
   "cell_type": "markdown",
   "metadata": {},
   "source": [
    "Para este projeto, você exercítará a visualização de dados por meio do dataset [311 Complaint Data](https://data.cityofnewyork.us/Social-Services/311-Service-Requests-from-2010-to-Present/erm2-nwe9) do New York City Open Data Portal. Você formulará uma pergunta de pesquisa que pode ser abordada por meio dos dados e identificará o público que se beneficiaria de sua pesquisa. Por exemplo, sua investigação pode permitir que um grupo comunitário priorize seus esforços ou ajude indivíduos a decidir onde morar. Seja criativo e pense em quem você quer servir com seu trabalho.\n",
    "\n",
    "Ao final deste projeto, você será capaz de:\n",
    "\n",
    "- Acessar e explorar uma fonte de dados pública\n",
    "- Formular uma questão de pesquisa que um conjunto de dados específico pode abordar\n",
    "- Criar uma visualização precisa e bem pensada usando matplotlib, seaborn, plotly, entre outros\n",
    "- Contextualizar o processo e o escopo do seu trabalho"
   ]
  },
  {
   "cell_type": "markdown",
   "metadata": {},
   "source": [
    "## Processo de Visualização de Dados\n",
    "\n",
    "Sua proposta deve delinear estas quatro dimensões:\n",
    "\n",
    "- **Sua pergunta de pesquisa**. Sua pergunta de pesquisa pode assumir a forma de uma pergunta, tópico ou título, mas deve ser respondida por este conjunto de dados e por meio de uma visualização. Sua pergunta de pesquisa se desenvolverá à medida que você trabalha com o conjunto de dados. Por exemplo, seu projeto pode começar com \"Qual mês tem mais reclamações de aquecimento?\" e ​​então expandir para \"Qual(is) ano(s) teve(tiveram) mais reclamações de aquecimento e quais edifícios são reincidentes?\" Inclua sua motivação para a pergunta. Por que as reclamações de aquecimento são importantes? O que podemos inferir da resposta a esta pergunta?\n",
    "- **Seu público**. Quem se beneficiaria de uma resposta à sua pergunta de pesquisa? Por que essa pergunta é importante para eles? Você pode dar contexto narrativo ou uma declaração muito direta do que está em jogo. Por exemplo, \"Entender as reclamações sobre aquecimento é importante para o Departamento de Saúde Pública. Ao entender melhor quando as reclamações sobre aquecimento atingem o pico, eles podem direcionar melhor os recursos para ajudar aqueles que estão em maior risco.\" Ao começar a projetar sua visualização, considere qual funcionalidade (como filtros ou dicas de ferramentas) beneficiaria mais esse público.\n",
    "- **Uma descrição escrita de suas visualizações**. Explique suas visualizações em termos que um novato em dados entenderia. Em uma frase para um parágrafo, que conclusão devo tirar de sua visualização?\n",
    "- **Uma explicação dos dados e decisões de design que você tomou**. Esta seção deve ilustrar o que você fez e por que fez. Por que você escolheu o tipo de gráfico/gráfico/visualização que fez? Como essa escolha representa melhor os dados e aborda sua pergunta? Por meio dessa explicação, você ilustrará que as decisões que tomou foram intencionais e como elas contribuem para o projeto. Você também deve explicar quaisquer limitações que encontrou e quaisquer compromissos subsequentes que fez com os dados ou seu design.\n"
   ]
  },
  {
   "cell_type": "markdown",
   "metadata": {},
   "source": [
    "### **Critérios de Avaliação**  \n",
    "\n",
    "**1. Escolha Apropriada de Visualização (4 pontos)**  \n",
    "- O tipo de visualização está alinhado com a questão da pesquisa.  \n",
    "- O gráfico ou tabela escolhidos representam os dados com precisão e de forma adequada.  \n",
    "\n",
    "**2. Comunicação Eficaz (2 pontos)**  \n",
    "- A mensagem principal da análise é comunicada de forma clara e compreensível.  \n",
    "- Os dados são apresentados com precisão, sem distorções ou interpretações enganosas.  \n",
    "\n",
    "**3. Design e Estética (2 pontos)**  \n",
    "- Todos os elementos da visualização têm uma função comunicativa e não são apenas decorativos.  \n",
    "- A organização do notebook e o layout das visualizações seguem uma estrutura lógica e intencional.  \n",
    "- Títulos, legendas e rótulos são informativos, bem posicionados e utilizam tamanhos e grafias apropriados.  \n",
    "\n",
    "**4. Qualidade da Documentação (2 pontos)**  \n",
    "- O notebook fornece um contexto claro que torna as visualizações mais compreensíveis e acessíveis.  \n",
    "- O notebook explica o propósito da análise e as decisões tomadas no processo de criação.  \n",
    "- Todos os componentes essenciais (pergunta de pesquisa, definição do público, explicação das escolhas, análise das visualizações e próximos passos) estão incluídos.  \n",
    "- As decisões seguem boas práticas de visualização de dados.  "
   ]
  },
  {
   "cell_type": "markdown",
   "metadata": {},
   "source": []
  }
 ],
 "metadata": {
  "kernelspec": {
   "display_name": "Python 3 (ipykernel)",
   "language": "python",
   "name": "python3"
  },
  "language_info": {
   "codemirror_mode": {
    "name": "ipython",
    "version": 3
   },
   "file_extension": ".py",
   "mimetype": "text/x-python",
   "name": "python",
   "nbconvert_exporter": "python",
   "pygments_lexer": "ipython3",
   "version": "3.12.3"
  }
 },
 "nbformat": 4,
 "nbformat_minor": 2
}
